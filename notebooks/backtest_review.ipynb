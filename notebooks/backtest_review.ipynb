
{
 "cells": [
  {
   "cell_type": "markdown",
   "metadata": {},
   "source": [
    "# Backtest Review Notebook"
   ]
  },
  {
   "cell_type": "code",
   "execution_count": null,
   "metadata": {},
   "outputs": [],
   "source": [
    "import json\n",
    "import pandas as pd\n",
    "import matplotlib.pyplot as plt\n",
    "\n",
    "# Load events\n",
    "records = []\n",
    "with open(\"../logs/events.jsonl\") as f:\n",
    "    for line in f:\n",
    "        try:\n",
    "            records.append(json.loads(line))\n",
    "        except:\n",
    "            pass\n",
    "\n",
    "df = pd.DataFrame(records)\n",
    "\n",
    "# Filter order fills\n",
    "fills = df[df[\"event\"] == \"order_fill\"]\n",
    "\n",
    "# Worker PnL (simple sum of prices as placeholder)\n",
    "worker_pnl = fills.groupby(\"worker\")[\"price\"].sum() if 'worker' in fills else None\n",
    "\n",
    "# Plot fills over time\n",
    "plt.figure(figsize=(12,6))\n",
    "fills.groupby(\"ts\")[\"price\"].mean().plot()\n",
    "plt.title(\"Average Fill Price Over Time\")\n",
    "plt.show()"
   ]
  }
 ],
 "metadata": {},
 "nbformat": 4,
 "nbformat_minor": 2
}
