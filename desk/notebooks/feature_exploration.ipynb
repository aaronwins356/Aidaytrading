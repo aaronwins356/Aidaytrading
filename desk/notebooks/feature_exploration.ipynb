
{
 "cells": [
  {
   "cell_type": "markdown",
   "metadata": {},
   "source": [
    "# Feature Exploration Notebook"
   ]
  },
  {
   "cell_type": "code",
   "execution_count": null,
   "metadata": {},
   "outputs": [],
   "source": [
    "import pandas as pd\n",
    "import matplotlib.pyplot as plt\n",
    "\n",
    "# Example: load historical OHLCV data\n",
    "df = pd.read_csv(\"sample_bars.csv\")  # replace with QC data request\n",
    "\n",
    "# Compute features\n",
    "df[\"returns\"] = df[\"close\"].pct_change()\n",
    "df[\"ma_fast\"] = df[\"close\"].rolling(10).mean()\n",
    "df[\"ma_slow\"] = df[\"close\"].rolling(30).mean()\n",
    "df[\"vwap\"] = (df[\"close\"] * df[\"volume\"]).cumsum() / df[\"volume\"].cumsum()\n",
    "\n",
    "# Plot\n",
    "plt.figure(figsize=(12,6))\n",
    "plt.plot(df[\"close\"], label=\"Close\")\n",
    "plt.plot(df[\"ma_fast\"], label=\"MA Fast\")\n",
    "plt.plot(df[\"ma_slow\"], label=\"MA Slow\")\n",
    "plt.legend()\n",
    "plt.show()"
   ]
  }
 ],
 "metadata": {},
 "nbformat": 4,
 "nbformat_minor": 2
}
